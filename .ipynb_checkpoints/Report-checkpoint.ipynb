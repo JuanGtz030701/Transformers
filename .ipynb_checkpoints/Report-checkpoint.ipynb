{
 "cells": [
  {
   "cell_type": "markdown",
   "id": "48d7ceae",
   "metadata": {},
   "source": [
    "<div style=\"border: 3px solid #0072B5; border-radius: 10px; padding: 20px; max-width: 100%; margin: 20px auto; box-shadow: 0 4px 8px rgba(0, 0, 0, 0.1);\">\n",
    "    <div style=\"text-align: center; margin-bottom: 20px;\">\n",
    "        <img src=\"https://oci02.img.iteso.mx/Identidades-De-Instancia/ITESO/Logos%20ITESO/Logo-ITESO-Principal-SinFondo.png\" alt=\"Logo ITESO\" style=\"width: 300px; height: auto; margin-bottom: 20px;\">\n",
    "        <h2 style=\"color: #0072B5; font-family: 'Georgia', sans-serif; font-size: 28px; margin: 0;\">Hw Transformers</h2>\n",
    "        <h3 style=\"color: #005792; font-family: 'Georgia', sans-serif;\">Microstructure & Trading Systems</h3>\n",
    "        <h4 style=\"font-family: 'Georgia', sans-serif; color: #004060; margin-top: 10px;\">May 5th, 2024</h4>\n",
    "    </div>\n",
    "    <div style=\"display: flex; flex-direction: row-reverse; align-items: center; gap: 20px;\">\n",
    "        <img src=\"https://ubjonline.b-cdn.net/wp-content/uploads/2017/07/analisis-bursatil-tecnico-y-fundamental.jpg\" alt=\"Imagen de Análisis Técnico\" style=\"width: 50%; flex-shrink: 0; border-radius: 10px;\">\n",
    "        <div style=\"padding-right: 100px;\">\n",
    "            <h5 style=\"font-family: 'Georgia', sans-serif; color: #0072B5;\">Members:</h5>\n",
    "            <ul style=\"font-family: 'Georgia', sans-serif;\">\n",
    "                <li style=\"font-family: 'Georgia', margin-top: 30px;\">Claudia Valeria Chimal Parra</li>\n",
    "                <li>Paulo Cesar Ayala Gutiérrez</li>\n",
    "                <li>Juan Carlos Gutiérrez Valdivia</li>\n",
    "                <li>Oscar Leonardo Vaca González</li>\n",
    "                <li>Arturo Espinosa Carabez</li>\n",
    "            </ul>\n",
    "        </div>\n",
    "    </div>\n",
    "</div>\n",
    "\n",
    "___"
   ]
  },
  {
   "cell_type": "markdown",
   "id": "98dca362",
   "metadata": {},
   "source": [
    "<div style=\"font-family: 'Georgia', sans-serif; color: #004060;\"> \n",
    "    <h1 style=\"color: #005792; text-align: center;\">Introduction to Transformers in Trading Models</h1> \n",
    "    <p>In recent years, transformers have emerged as a revolutionary architecture in the field of natural language processing (NLP) and beyond. Originally introduced by Vaswani et al. in the paper <strong>\"Attention Is All You Need\"</strong> in 2017, transformers have since become a cornerstone in various machine learning applications due to their exceptional ability to capture long-range dependencies and contextual information.</p> \n",
    "    <p>At the core of transformer models lies the self-attention mechanism, which enables them to weigh the importance of different words or tokens in a sequence when making predictions or generating output. This mechanism allows transformers to process input data in parallel, making them highly efficient for tasks involving sequential data, such as language translation, text summarization, and sentiment analysis.</p> \n",
    "    <p>In the realm of trading, transformers have garnered considerable attention for their potential to analyze vast amounts of financial data and extract meaningful patterns and insights. By leveraging the inherent capabilities of transformers to capture temporal dependencies and complex relationships within financial time series data, researchers and practitioners aim to develop more accurate and robust trading models.</p> \n",
    "    <p>In this report, we explore the application of transformer-based models in trading using <strong>5-minute AAPL (Apple Inc.)</strong> data. We will examine their effectiveness in capturing market dynamics, making predictions, and informing trading strategies. Through a combination of theoretical insights and practical examples, we aim to shed light on the role of transformers in reshaping the landscape of algorithmic trading and quantitative finance.</p> \n",
    "</div>\n",
    "\n",
    "___"
   ]
  },
  {
   "cell_type": "markdown",
   "id": "a394f627",
   "metadata": {},
   "source": [
    "<div style=\"font-family: 'Georgia', sans-serif; color: #004060;\">\n",
    "    <h3 style=\"color: #0072B5; text-align: center;\">Integration of Technical Indicators</h3>\n",
    "    <p>Technical indicators were integrated into the dataset preprocessing stage to enrich the input data fed into the transformer-based model.</p>\n",
    "    <h4 style=\"color: #005792;\">Application Logic:</h4>\n",
    "    <p>For each technical indicator, 15 different configurations were applied to capture a diverse range of market signals:</p>\n",
    "    <ul>\n",
    "        <li><span style=\"font-family: 'Courier New', monospace;\"><strong>Relative Strength Index (RSI):</strong></span> RSI values were computed over multiple time windows to gauge the strength of price movements and identify potential overbought or oversold conditions.</li>\n",
    "        <li><span style=\"font-family: 'Courier New', monospace;\"><strong>Weighted Moving Average (WMA):</strong></span> WMA indicators were calculated over varying time periods to capture short-term trends and smooth out price fluctuations.</li>\n",
    "        <li><span style=\"font-family: 'Courier New', monospace;\"><strong>Moving Average Convergence Divergence (MACD):</strong></span> MACD indicators, consisting of fast and slow moving averages, were computed along with signal lines to detect changes in momentum and potential trend reversals.</li>\n",
    "        <li><span style=\"font-family: 'Courier New', monospace;\"><strong>Bollinger Bands:</strong></span> Bollinger Bands were calculated using different window sizes and standard deviations to obtain insights into price volatility and potential breakout or reversal points.</li>\n",
    "    </ul>\n",
    "    <p>Following computation, these indicators were normalized and concatenated with the original dataset to form the input features for the transformer model. This integration of technical indicators enhances the model's ability to capture nuanced market behaviors and inform trading decisions.</p>\n",
    "    <h4 style=\"color: #005792;\">Iterative Parameter Application:</h4>\n",
    "    <p>Parameters for each indicator were iteratively applied to the corresponding dataset. Unique signal names were assigned for each indicator configuration to ensure distinction, and the datasets were updated accordingly.</p>\n",
    "    <p>This systematic approach allows for comprehensive coverage of market signals and dynamic adjustment of trading strategies across multiple timeframes, leveraging technical analysis for algorithmic trading.</p>\n",
    "    <h4 style=\"color: #005792;\">Obtained Signals:</h4>\n",
    "    <ul style=\"font-family: 'Courier New', monospace;\">\n",
    "        <li>RSI configurations: 15 different window sizes.</li>\n",
    "        <li>WMA configurations: 15 different window sizes.</li>\n",
    "        <li>MACD configurations: 15 different combinations of fast, slow, and signal periods.</li>\n",
    "        <li>Bollinger Bands configurations: 15 different window sizes and standard deviations.</li>\n",
    "    </ul>\n",
    "</div>\n",
    "\n",
    "___"
   ]
  },
  {
   "cell_type": "markdown",
   "id": "e6729008",
   "metadata": {},
   "source": [
    "<div style=\"font-family: 'Georgia', sans-serif; color: #004060;\">\n",
    "    <h3 style=\"color: #0072B5; text-align: center;\">Integration of Technical Indicators</h3>\n",
    "    <p>Technical indicators were integrated into the dataset preprocessing stage to enrich the input data fed into the transformer-based model.</p>\n",
    "    <h4 style=\"color: #005792;\">Application Logic:</h4>\n",
    "    <p>For each technical indicator, 15 different configurations were applied to capture a diverse range of market signals:</p>\n",
    "    <ul>\n",
    "        <li><span style=\"font-family: 'Courier New', monospace;\"><strong>Relative Strength Index (RSI):</strong></span> RSI values were computed over multiple time windows to gauge the strength of price movements and identify potential overbought or oversold conditions. Parameters used: window sizes of 5, 10, 15, 20, 25, 30, 35, 40, 45, 50, 55, 60, 65, 70, 75, and 80.</li>\n",
    "        <li><span style=\"font-family: 'Courier New', monospace;\"><strong>Weighted Moving Average (WMA):</strong></span> WMA indicators were calculated over varying time periods to capture short-term trends and smooth out price fluctuations. Parameters used: window sizes of 5, 10, 15, 20, 25, 30, 35, 40, 45, 50, 55, 60, 65, 70, and 75.</li>\n",
    "        <li><span style=\"font-family: 'Courier New', monospace;\"><strong>Moving Average Convergence Divergence (MACD):</strong></span> MACD indicators, consisting of fast and slow moving averages, were computed along with signal lines to detect changes in momentum and potential trend reversals. Parameters used: fast periods ranging from 12 to 26, slow periods ranging from 26 to 40, and signal periods ranging from 9 to 23.</li>\n",
    "        <li><span style=\"font-family: 'Courier New', monospace;\"><strong>Bollinger Bands:</strong></span> Bollinger Bands were calculated using different window sizes and standard deviations to obtain insights into price volatility and potential breakout or reversal points. Parameters used: window sizes ranging from 20 to 34, and window deviations ranging from 2 to 3.4.</li>\n",
    "    </ul>\n",
    "    <p>Following computation, these indicators were normalized and concatenated with the original dataset to form the input features for the transformer model. This integration of technical indicators enhances the model's ability to capture nuanced market behaviors and inform trading decisions.</p>\n",
    "    <h4 style=\"color: #005792;\">Iterative Parameter Application:</h4>\n",
    "    <p>Parameters for each indicator were iteratively applied to the corresponding dataset. Unique signal names were assigned for each indicator configuration to ensure distinction, and the datasets were updated accordingly.</p>\n",
    "    <p>This systematic approach allows for comprehensive coverage of market signals and dynamic adjustment of trading strategies across multiple timeframes, leveraging technical analysis for algorithmic trading.</p>\n",
    "    <h4 style=\"color: #005792;\">Obtained Signals:</h4>\n",
    "    <ul style=\"font-family: 'Courier New', monospace;\">\n",
    "        <li>RSI configurations: 15 different window sizes.</li>\n",
    "        <li>WMA configurations: 15 different window sizes.</li>\n",
    "        <li>MACD configurations: 15 different combinations of fast, slow, and signal periods.</li>\n",
    "        <li>Bollinger Bands configurations: 15 different window sizes and standard deviations.</li>\n",
    "    </ul>\n",
    "</div>"
   ]
  },
  {
   "cell_type": "markdown",
   "id": "c6ae2768",
   "metadata": {},
   "source": [
    "<div style=\"font-family: 'Georgia', sans-serif; color: #004060;\">\n",
    "    <h3 style=\"color: #0072B5; text-align: center;\">Handling Lagged Features</h3>\n",
    "    <p>To incorporate temporal dependencies into the dataset, lagged features were created based on historical price data.</p>\n",
    "    <h4 style=\"color: #005792;\">Application of Lagged Features:</h4>\n",
    "    <p>For each data point, the original features were replicated with lagged values up to a specified number of periods.</p>\n",
    "    <p>The lagged features were generated as follows:</p>\n",
    "    <ul>\n",
    "        <li><span style=\"font-family: 'Courier New', monospace;\"><strong>Close Price (Close_0):</strong></span> Lagged versions of the closing price were created up to a lag of 5 periods, allowing the model to capture past price movements.</li>\n",
    "    </ul>\n",
    "    <p>Additionally, for each of the 15 configurations of technical indicators, the corresponding indicator values were included as features:</p>\n",
    "    <ul>\n",
    "        <li><span style=\"font-family: 'Courier New', monospace;\"><strong>RSI, WMA, MACD, Bollinger Bands:</strong></span> The values of each indicator for the current period were included as features for each of the 15 configurations.</li>\n",
    "    </ul>\n",
    "    <p>These lagged features, along with the current values of the technical indicators, provide the model with a comprehensive historical context, enabling it to make more informed predictions based on past price behavior.</p>\n",
    "    <h4 style=\"color: #005792;\">Target Variable Calculation:</h4>\n",
    "    <p>The target variable was derived based on future price movements, with buy (2), sell (1), or hold (0) signals assigned according to predefined thresholds:</p>\n",
    "    <ul>\n",
    "        <li>If the price 5 periods ahead increased by more than 1%, a buy signal (2) was assigned.</li>\n",
    "        <li>If the price 5 periods ahead decreased by more than 1%, a sell signal (1) was assigned.</li>\n",
    "        <li>Otherwise, a hold signal (0) was assigned.</li>\n",
    "    </ul>\n",
    "    <p>The target variable was shifted to align with the lagged features, ensuring that each data point corresponds to the correct input features and target signal.</p>\n",
    "</div>\n",
    "\n",
    "___"
   ]
  },
  {
   "cell_type": "markdown",
   "id": "1bf86bb2",
   "metadata": {},
   "source": [
    "<div style=\"font-family: 'Georgia', sans-serif; color: #004060;\"> <h3 style=\"color: #005792; text-align: left;\">5-minute Train Chart:</h3>"
   ]
  },
  {
   "cell_type": "code",
   "execution_count": 5,
   "id": "144408b9",
   "metadata": {},
   "outputs": [],
   "source": [
    "from functions import normalize, create_transformer, backtesting_final\n",
    "import tensorflow as tf\n",
    "import numpy as np\n",
    "import pandas as pd\n",
    "import matplotlib.pyplot as plt\n",
    "import ta\n",
    "import warnings\n",
    "import sys\n",
    "import os\n",
    "warnings.filterwarnings('ignore')"
   ]
  },
  {
   "cell_type": "code",
   "execution_count": 6,
   "id": "07d3ed17",
   "metadata": {},
   "outputs": [],
   "source": [
    "# Plot train\n"
   ]
  },
  {
   "cell_type": "markdown",
   "id": "42c57612",
   "metadata": {},
   "source": [
    "___"
   ]
  },
  {
   "cell_type": "markdown",
   "id": "63991783",
   "metadata": {},
   "source": [
    "<div style=\"font-family: 'Georgia', sans-serif; color: #004060;\"> <h3 style=\"color: #005792; text-align: left;\">5-minute Test Chart:</h3>"
   ]
  },
  {
   "cell_type": "code",
   "execution_count": 7,
   "id": "b4bea6d8",
   "metadata": {},
   "outputs": [],
   "source": [
    "# Plot test\n"
   ]
  },
  {
   "cell_type": "markdown",
   "id": "14e67c4e",
   "metadata": {},
   "source": [
    "___"
   ]
  },
  {
   "cell_type": "markdown",
   "id": "59d665e3",
   "metadata": {},
   "source": [
    "<div style=\"font-family: 'Georgia', sans-serif; color: #004060;\"> <h3 style=\"color: #005792; text-align: left;\">Portfolio performance Chart:</h3>"
   ]
  },
  {
   "cell_type": "code",
   "execution_count": 8,
   "id": "7edb8428",
   "metadata": {},
   "outputs": [],
   "source": [
    "# Plot portfolio performance chart\n"
   ]
  },
  {
   "cell_type": "markdown",
   "id": "17a73673",
   "metadata": {},
   "source": [
    "___"
   ]
  },
  {
   "cell_type": "markdown",
   "id": "6cd06a92",
   "metadata": {},
   "source": [
    "<div style=\"font-family: 'Georgia', sans-serif; color: #004060;\">\n",
    "    <h2 style=\"color: #0072B5; text-align: center;\">Conclusion</h2>\n",
    "    <p>In conclusion, our project represents a comprehensive exploration into the application of transformer-based models in the domain of trading. Through data preparation, technical indicator application, model configuration, and rigorous evaluation, we have endeavored to develop algorithms capable of capturing market dynamics and informing trading decisions. In the following sections, we summarize our findings, discuss key insights, and propose avenues for future research and refinement.</p>\n",
    "    <h3 style=\"color: #005792;\">Methodology</h3>\n",
    "    <p>Our methodology consisted of a systematic approach to develop and evaluate trading models using transformer-based architectures. The process involved the following steps:</p>\n",
    "<ol>\n",
    "    <li>Data Preparation: We collected historical trading data for the AAPL stock at 5-minute intervals. The data was preprocessed to handle missing values and standardized to ensure uniformity across features.</li>\n",
    "    <li>Technical Indicator Application: We applied a variety of technical indicators, including Relative Strength Index (RSI), Weighted Moving Average (WMA), Moving Average Convergence Divergence (MACD), and Bollinger Bands, to derive additional features from the raw price data.</li>\n",
    "    <li>Model Configuration: We configured transformer models to accept input features derived from the technical indicators. Hyperparameters such as the number of layers, attention heads, and hidden dimensions were optimized through a grid search process.</li>\n",
    "    <li>Training and Validation: The models were trained on the preprocessed data using a portion of the dataset, while another portion was reserved for validation to assess model performance.</li>\n",
    "    </ol>\n",
    "    <h3 style=\"color: #005792;\">Key Achievements</h3>\n",
    "    <ul style=\"font-family: 'Georgia', sans-serif;\">\n",
    "        <li>Here.</li>\n",
    "    </ul>\n",
    "    <h3 style=\"color: #005792;\">Implications and Future Directions</h3>\n",
    "<p>This project demonstrates the potential of transformers models in algorithmic trading. However, it is clear that it is not ready to go to market as a fully winning algorithm.</p>\n",
    "<p>Moving forward, we plan to:</p>\n",
    "<ul style=\"font-family: 'Georgia', sans-serif;\">\n",
    "    <li>Here.</li>\n",
    "    </ul>\n",
    "</div>    \n",
    "\n",
    "___"
   ]
  },
  {
   "cell_type": "markdown",
   "id": "8b8a6e1a",
   "metadata": {},
   "source": [
    "<div style=\"font-family: 'Georgia', sans-serif; color: #004060;\">\n",
    "    <h3 style=\"color: #0072B5; text-align: center;\">Github Repository</h3>\n",
    "    <p>For more information and access to the source code, visit the <a href=\"https://github.com/JuanGtz030701/Transformers.git\" style=\"color: #005792; text-decoration: none;\">GitHub repository</a>.</p>\n",
    "</div>\n",
    "\n",
    "___\n",
    "___"
   ]
  }
 ],
 "metadata": {
  "kernelspec": {
   "display_name": "Python 3 (ipykernel)",
   "language": "python",
   "name": "python3"
  },
  "language_info": {
   "codemirror_mode": {
    "name": "ipython",
    "version": 3
   },
   "file_extension": ".py",
   "mimetype": "text/x-python",
   "name": "python",
   "nbconvert_exporter": "python",
   "pygments_lexer": "ipython3",
   "version": "3.11.7"
  }
 },
 "nbformat": 4,
 "nbformat_minor": 5
}
